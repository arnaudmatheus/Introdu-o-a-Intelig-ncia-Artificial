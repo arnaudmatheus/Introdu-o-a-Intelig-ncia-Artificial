{
 "cells": [
  {
   "cell_type": "code",
   "execution_count": 2,
   "metadata": {},
   "outputs": [
    {
     "data": {
      "text/html": [
       "<div>\n",
       "<style scoped>\n",
       "    .dataframe tbody tr th:only-of-type {\n",
       "        vertical-align: middle;\n",
       "    }\n",
       "\n",
       "    .dataframe tbody tr th {\n",
       "        vertical-align: top;\n",
       "    }\n",
       "\n",
       "    .dataframe thead th {\n",
       "        text-align: right;\n",
       "    }\n",
       "</style>\n",
       "<table border=\"1\" class=\"dataframe\">\n",
       "  <thead>\n",
       "    <tr style=\"text-align: right;\">\n",
       "      <th></th>\n",
       "      <th>holiday</th>\n",
       "      <th>temp</th>\n",
       "      <th>rain_1h</th>\n",
       "      <th>snow_1h</th>\n",
       "      <th>clouds_all</th>\n",
       "      <th>weather_main</th>\n",
       "      <th>weather_description</th>\n",
       "      <th>date_time</th>\n",
       "      <th>traffic_volume</th>\n",
       "    </tr>\n",
       "  </thead>\n",
       "  <tbody>\n",
       "    <tr>\n",
       "      <th>0</th>\n",
       "      <td>None</td>\n",
       "      <td>288.28</td>\n",
       "      <td>0.0</td>\n",
       "      <td>0.0</td>\n",
       "      <td>40</td>\n",
       "      <td>Clouds</td>\n",
       "      <td>scattered clouds</td>\n",
       "      <td>2012-10-02 09:00:00</td>\n",
       "      <td>5545</td>\n",
       "    </tr>\n",
       "    <tr>\n",
       "      <th>1</th>\n",
       "      <td>None</td>\n",
       "      <td>289.36</td>\n",
       "      <td>0.0</td>\n",
       "      <td>0.0</td>\n",
       "      <td>75</td>\n",
       "      <td>Clouds</td>\n",
       "      <td>broken clouds</td>\n",
       "      <td>2012-10-02 10:00:00</td>\n",
       "      <td>4516</td>\n",
       "    </tr>\n",
       "    <tr>\n",
       "      <th>2</th>\n",
       "      <td>None</td>\n",
       "      <td>289.58</td>\n",
       "      <td>0.0</td>\n",
       "      <td>0.0</td>\n",
       "      <td>90</td>\n",
       "      <td>Clouds</td>\n",
       "      <td>overcast clouds</td>\n",
       "      <td>2012-10-02 11:00:00</td>\n",
       "      <td>4767</td>\n",
       "    </tr>\n",
       "    <tr>\n",
       "      <th>3</th>\n",
       "      <td>None</td>\n",
       "      <td>290.13</td>\n",
       "      <td>0.0</td>\n",
       "      <td>0.0</td>\n",
       "      <td>90</td>\n",
       "      <td>Clouds</td>\n",
       "      <td>overcast clouds</td>\n",
       "      <td>2012-10-02 12:00:00</td>\n",
       "      <td>5026</td>\n",
       "    </tr>\n",
       "    <tr>\n",
       "      <th>4</th>\n",
       "      <td>None</td>\n",
       "      <td>291.14</td>\n",
       "      <td>0.0</td>\n",
       "      <td>0.0</td>\n",
       "      <td>75</td>\n",
       "      <td>Clouds</td>\n",
       "      <td>broken clouds</td>\n",
       "      <td>2012-10-02 13:00:00</td>\n",
       "      <td>4918</td>\n",
       "    </tr>\n",
       "    <tr>\n",
       "      <th>...</th>\n",
       "      <td>...</td>\n",
       "      <td>...</td>\n",
       "      <td>...</td>\n",
       "      <td>...</td>\n",
       "      <td>...</td>\n",
       "      <td>...</td>\n",
       "      <td>...</td>\n",
       "      <td>...</td>\n",
       "      <td>...</td>\n",
       "    </tr>\n",
       "    <tr>\n",
       "      <th>48199</th>\n",
       "      <td>None</td>\n",
       "      <td>283.45</td>\n",
       "      <td>0.0</td>\n",
       "      <td>0.0</td>\n",
       "      <td>75</td>\n",
       "      <td>Clouds</td>\n",
       "      <td>broken clouds</td>\n",
       "      <td>2018-09-30 19:00:00</td>\n",
       "      <td>3543</td>\n",
       "    </tr>\n",
       "    <tr>\n",
       "      <th>48200</th>\n",
       "      <td>None</td>\n",
       "      <td>282.76</td>\n",
       "      <td>0.0</td>\n",
       "      <td>0.0</td>\n",
       "      <td>90</td>\n",
       "      <td>Clouds</td>\n",
       "      <td>overcast clouds</td>\n",
       "      <td>2018-09-30 20:00:00</td>\n",
       "      <td>2781</td>\n",
       "    </tr>\n",
       "    <tr>\n",
       "      <th>48201</th>\n",
       "      <td>None</td>\n",
       "      <td>282.73</td>\n",
       "      <td>0.0</td>\n",
       "      <td>0.0</td>\n",
       "      <td>90</td>\n",
       "      <td>Thunderstorm</td>\n",
       "      <td>proximity thunderstorm</td>\n",
       "      <td>2018-09-30 21:00:00</td>\n",
       "      <td>2159</td>\n",
       "    </tr>\n",
       "    <tr>\n",
       "      <th>48202</th>\n",
       "      <td>None</td>\n",
       "      <td>282.09</td>\n",
       "      <td>0.0</td>\n",
       "      <td>0.0</td>\n",
       "      <td>90</td>\n",
       "      <td>Clouds</td>\n",
       "      <td>overcast clouds</td>\n",
       "      <td>2018-09-30 22:00:00</td>\n",
       "      <td>1450</td>\n",
       "    </tr>\n",
       "    <tr>\n",
       "      <th>48203</th>\n",
       "      <td>None</td>\n",
       "      <td>282.12</td>\n",
       "      <td>0.0</td>\n",
       "      <td>0.0</td>\n",
       "      <td>90</td>\n",
       "      <td>Clouds</td>\n",
       "      <td>overcast clouds</td>\n",
       "      <td>2018-09-30 23:00:00</td>\n",
       "      <td>954</td>\n",
       "    </tr>\n",
       "  </tbody>\n",
       "</table>\n",
       "<p>48204 rows × 9 columns</p>\n",
       "</div>"
      ],
      "text/plain": [
       "      holiday    temp  rain_1h  snow_1h  clouds_all  weather_main  \\\n",
       "0        None  288.28      0.0      0.0          40        Clouds   \n",
       "1        None  289.36      0.0      0.0          75        Clouds   \n",
       "2        None  289.58      0.0      0.0          90        Clouds   \n",
       "3        None  290.13      0.0      0.0          90        Clouds   \n",
       "4        None  291.14      0.0      0.0          75        Clouds   \n",
       "...       ...     ...      ...      ...         ...           ...   \n",
       "48199    None  283.45      0.0      0.0          75        Clouds   \n",
       "48200    None  282.76      0.0      0.0          90        Clouds   \n",
       "48201    None  282.73      0.0      0.0          90  Thunderstorm   \n",
       "48202    None  282.09      0.0      0.0          90        Clouds   \n",
       "48203    None  282.12      0.0      0.0          90        Clouds   \n",
       "\n",
       "          weather_description            date_time  traffic_volume  \n",
       "0            scattered clouds  2012-10-02 09:00:00            5545  \n",
       "1               broken clouds  2012-10-02 10:00:00            4516  \n",
       "2             overcast clouds  2012-10-02 11:00:00            4767  \n",
       "3             overcast clouds  2012-10-02 12:00:00            5026  \n",
       "4               broken clouds  2012-10-02 13:00:00            4918  \n",
       "...                       ...                  ...             ...  \n",
       "48199           broken clouds  2018-09-30 19:00:00            3543  \n",
       "48200         overcast clouds  2018-09-30 20:00:00            2781  \n",
       "48201  proximity thunderstorm  2018-09-30 21:00:00            2159  \n",
       "48202         overcast clouds  2018-09-30 22:00:00            1450  \n",
       "48203         overcast clouds  2018-09-30 23:00:00             954  \n",
       "\n",
       "[48204 rows x 9 columns]"
      ]
     },
     "execution_count": 2,
     "metadata": {},
     "output_type": "execute_result"
    }
   ],
   "source": [
    "import pandas as pd \n",
    "import numpy as np\n",
    "\n",
    "\n",
    "data = pd.read_csv('Metro_Interstate_Traffic_Volume.csv')\n",
    "data\n"
   ]
  },
  {
   "cell_type": "markdown",
   "metadata": {},
   "source": [
    "# Introdução:\n",
    "#### Neste trabalho foi analisado as informações da base de dados Metro_Interstate_Traffic_Volume.csv com o intuito de implementar dois algoritimos de aprendizado de maquina visando fazer a regressão e tentar prever o trafego a partir das informações dadas e comparar o desempenho desses algoritimos utilizando split e com uso de validação cruzada em dez grupos"
   ]
  },
  {
   "cell_type": "code",
   "execution_count": 3,
   "metadata": {},
   "outputs": [
    {
     "data": {
      "text/html": [
       "<style  type=\"text/css\" >\n",
       "    #T_9cd4792a_63a5_11ea_86df_2be3ede73dderow0_col0 {\n",
       "            background-color:  #b40426;\n",
       "            color:  #f1f1f1;\n",
       "        }    #T_9cd4792a_63a5_11ea_86df_2be3ede73dderow0_col1 {\n",
       "            background-color:  #3d50c3;\n",
       "            color:  #f1f1f1;\n",
       "        }    #T_9cd4792a_63a5_11ea_86df_2be3ede73dderow0_col2 {\n",
       "            background-color:  #3b4cc0;\n",
       "            color:  #f1f1f1;\n",
       "        }    #T_9cd4792a_63a5_11ea_86df_2be3ede73dderow0_col3 {\n",
       "            background-color:  #3b4cc0;\n",
       "            color:  #f1f1f1;\n",
       "        }    #T_9cd4792a_63a5_11ea_86df_2be3ede73dderow0_col4 {\n",
       "            background-color:  #6384eb;\n",
       "            color:  #000000;\n",
       "        }    #T_9cd4792a_63a5_11ea_86df_2be3ede73dderow1_col0 {\n",
       "            background-color:  #5977e3;\n",
       "            color:  #000000;\n",
       "        }    #T_9cd4792a_63a5_11ea_86df_2be3ede73dderow1_col1 {\n",
       "            background-color:  #b40426;\n",
       "            color:  #f1f1f1;\n",
       "        }    #T_9cd4792a_63a5_11ea_86df_2be3ede73dderow1_col2 {\n",
       "            background-color:  #3f53c6;\n",
       "            color:  #f1f1f1;\n",
       "        }    #T_9cd4792a_63a5_11ea_86df_2be3ede73dderow1_col3 {\n",
       "            background-color:  #5875e1;\n",
       "            color:  #000000;\n",
       "        }    #T_9cd4792a_63a5_11ea_86df_2be3ede73dderow1_col4 {\n",
       "            background-color:  #3c4ec2;\n",
       "            color:  #f1f1f1;\n",
       "        }    #T_9cd4792a_63a5_11ea_86df_2be3ede73dderow2_col0 {\n",
       "            background-color:  #516ddb;\n",
       "            color:  #000000;\n",
       "        }    #T_9cd4792a_63a5_11ea_86df_2be3ede73dderow2_col1 {\n",
       "            background-color:  #3b4cc0;\n",
       "            color:  #f1f1f1;\n",
       "        }    #T_9cd4792a_63a5_11ea_86df_2be3ede73dderow2_col2 {\n",
       "            background-color:  #b40426;\n",
       "            color:  #f1f1f1;\n",
       "        }    #T_9cd4792a_63a5_11ea_86df_2be3ede73dderow2_col3 {\n",
       "            background-color:  #5f7fe8;\n",
       "            color:  #000000;\n",
       "        }    #T_9cd4792a_63a5_11ea_86df_2be3ede73dderow2_col4 {\n",
       "            background-color:  #3b4cc0;\n",
       "            color:  #f1f1f1;\n",
       "        }    #T_9cd4792a_63a5_11ea_86df_2be3ede73dderow3_col0 {\n",
       "            background-color:  #3b4cc0;\n",
       "            color:  #f1f1f1;\n",
       "        }    #T_9cd4792a_63a5_11ea_86df_2be3ede73dderow3_col1 {\n",
       "            background-color:  #3c4ec2;\n",
       "            color:  #f1f1f1;\n",
       "        }    #T_9cd4792a_63a5_11ea_86df_2be3ede73dderow3_col2 {\n",
       "            background-color:  #485fd1;\n",
       "            color:  #f1f1f1;\n",
       "        }    #T_9cd4792a_63a5_11ea_86df_2be3ede73dderow3_col3 {\n",
       "            background-color:  #b40426;\n",
       "            color:  #f1f1f1;\n",
       "        }    #T_9cd4792a_63a5_11ea_86df_2be3ede73dderow3_col4 {\n",
       "            background-color:  #4e68d8;\n",
       "            color:  #000000;\n",
       "        }    #T_9cd4792a_63a5_11ea_86df_2be3ede73dderow4_col0 {\n",
       "            background-color:  #7ea1fa;\n",
       "            color:  #000000;\n",
       "        }    #T_9cd4792a_63a5_11ea_86df_2be3ede73dderow4_col1 {\n",
       "            background-color:  #3c4ec2;\n",
       "            color:  #f1f1f1;\n",
       "        }    #T_9cd4792a_63a5_11ea_86df_2be3ede73dderow4_col2 {\n",
       "            background-color:  #4055c8;\n",
       "            color:  #f1f1f1;\n",
       "        }    #T_9cd4792a_63a5_11ea_86df_2be3ede73dderow4_col3 {\n",
       "            background-color:  #6b8df0;\n",
       "            color:  #000000;\n",
       "        }    #T_9cd4792a_63a5_11ea_86df_2be3ede73dderow4_col4 {\n",
       "            background-color:  #b40426;\n",
       "            color:  #f1f1f1;\n",
       "        }</style><table id=\"T_9cd4792a_63a5_11ea_86df_2be3ede73dde\" ><thead>    <tr>        <th class=\"blank level0\" ></th>        <th class=\"col_heading level0 col0\" >temp</th>        <th class=\"col_heading level0 col1\" >rain_1h</th>        <th class=\"col_heading level0 col2\" >snow_1h</th>        <th class=\"col_heading level0 col3\" >clouds_all</th>        <th class=\"col_heading level0 col4\" >traffic_volume</th>    </tr></thead><tbody>\n",
       "                <tr>\n",
       "                        <th id=\"T_9cd4792a_63a5_11ea_86df_2be3ede73ddelevel0_row0\" class=\"row_heading level0 row0\" >temp</th>\n",
       "                        <td id=\"T_9cd4792a_63a5_11ea_86df_2be3ede73dderow0_col0\" class=\"data row0 col0\" >1.000000</td>\n",
       "                        <td id=\"T_9cd4792a_63a5_11ea_86df_2be3ede73dderow0_col1\" class=\"data row0 col1\" >0.009069</td>\n",
       "                        <td id=\"T_9cd4792a_63a5_11ea_86df_2be3ede73dderow0_col2\" class=\"data row0 col2\" >-0.019755</td>\n",
       "                        <td id=\"T_9cd4792a_63a5_11ea_86df_2be3ede73dderow0_col3\" class=\"data row0 col3\" >-0.101976</td>\n",
       "                        <td id=\"T_9cd4792a_63a5_11ea_86df_2be3ede73dderow0_col4\" class=\"data row0 col4\" >0.130299</td>\n",
       "            </tr>\n",
       "            <tr>\n",
       "                        <th id=\"T_9cd4792a_63a5_11ea_86df_2be3ede73ddelevel0_row1\" class=\"row_heading level0 row1\" >rain_1h</th>\n",
       "                        <td id=\"T_9cd4792a_63a5_11ea_86df_2be3ede73dderow1_col0\" class=\"data row1 col0\" >0.009069</td>\n",
       "                        <td id=\"T_9cd4792a_63a5_11ea_86df_2be3ede73dderow1_col1\" class=\"data row1 col1\" >1.000000</td>\n",
       "                        <td id=\"T_9cd4792a_63a5_11ea_86df_2be3ede73dderow1_col2\" class=\"data row1 col2\" >-0.000090</td>\n",
       "                        <td id=\"T_9cd4792a_63a5_11ea_86df_2be3ede73dderow1_col3\" class=\"data row1 col3\" >0.004818</td>\n",
       "                        <td id=\"T_9cd4792a_63a5_11ea_86df_2be3ede73dderow1_col4\" class=\"data row1 col4\" >0.004714</td>\n",
       "            </tr>\n",
       "            <tr>\n",
       "                        <th id=\"T_9cd4792a_63a5_11ea_86df_2be3ede73ddelevel0_row2\" class=\"row_heading level0 row2\" >snow_1h</th>\n",
       "                        <td id=\"T_9cd4792a_63a5_11ea_86df_2be3ede73dderow2_col0\" class=\"data row2 col0\" >-0.019755</td>\n",
       "                        <td id=\"T_9cd4792a_63a5_11ea_86df_2be3ede73dderow2_col1\" class=\"data row2 col1\" >-0.000090</td>\n",
       "                        <td id=\"T_9cd4792a_63a5_11ea_86df_2be3ede73dderow2_col2\" class=\"data row2 col2\" >1.000000</td>\n",
       "                        <td id=\"T_9cd4792a_63a5_11ea_86df_2be3ede73dderow2_col3\" class=\"data row2 col3\" >0.027931</td>\n",
       "                        <td id=\"T_9cd4792a_63a5_11ea_86df_2be3ede73dderow2_col4\" class=\"data row2 col4\" >0.000733</td>\n",
       "            </tr>\n",
       "            <tr>\n",
       "                        <th id=\"T_9cd4792a_63a5_11ea_86df_2be3ede73ddelevel0_row3\" class=\"row_heading level0 row3\" >clouds_all</th>\n",
       "                        <td id=\"T_9cd4792a_63a5_11ea_86df_2be3ede73dderow3_col0\" class=\"data row3 col0\" >-0.101976</td>\n",
       "                        <td id=\"T_9cd4792a_63a5_11ea_86df_2be3ede73dderow3_col1\" class=\"data row3 col1\" >0.004818</td>\n",
       "                        <td id=\"T_9cd4792a_63a5_11ea_86df_2be3ede73dderow3_col2\" class=\"data row3 col2\" >0.027931</td>\n",
       "                        <td id=\"T_9cd4792a_63a5_11ea_86df_2be3ede73dderow3_col3\" class=\"data row3 col3\" >1.000000</td>\n",
       "                        <td id=\"T_9cd4792a_63a5_11ea_86df_2be3ede73dderow3_col4\" class=\"data row3 col4\" >0.067054</td>\n",
       "            </tr>\n",
       "            <tr>\n",
       "                        <th id=\"T_9cd4792a_63a5_11ea_86df_2be3ede73ddelevel0_row4\" class=\"row_heading level0 row4\" >traffic_volume</th>\n",
       "                        <td id=\"T_9cd4792a_63a5_11ea_86df_2be3ede73dderow4_col0\" class=\"data row4 col0\" >0.130299</td>\n",
       "                        <td id=\"T_9cd4792a_63a5_11ea_86df_2be3ede73dderow4_col1\" class=\"data row4 col1\" >0.004714</td>\n",
       "                        <td id=\"T_9cd4792a_63a5_11ea_86df_2be3ede73dderow4_col2\" class=\"data row4 col2\" >0.000733</td>\n",
       "                        <td id=\"T_9cd4792a_63a5_11ea_86df_2be3ede73dderow4_col3\" class=\"data row4 col3\" >0.067054</td>\n",
       "                        <td id=\"T_9cd4792a_63a5_11ea_86df_2be3ede73dderow4_col4\" class=\"data row4 col4\" >1.000000</td>\n",
       "            </tr>\n",
       "    </tbody></table>"
      ],
      "text/plain": [
       "<pandas.io.formats.style.Styler at 0x7f81407b7890>"
      ]
     },
     "execution_count": 3,
     "metadata": {},
     "output_type": "execute_result"
    }
   ],
   "source": [
    "import matplotlib.pyplot as plt\n",
    "\n",
    "corr = data.corr()\n",
    "corr.style.background_gradient(cmap='coolwarm')"
   ]
  },
  {
   "cell_type": "markdown",
   "metadata": {},
   "source": [
    "#### Acima foi mostrada a matriz de correlação e foi visto que não existe alta correlação entre nenhuma classe e abaixo foi analizado as médias e o desvio padrão de cada classe para saber se os valores estão condizentes com as médias. A partir disso os valores snow_1h foi retirado por demonstrar que não influencia para o aumento ou diminuição do trafego bem como date_time uma vez que não mostra relação com o aumento ou diminuição do trafego"
   ]
  },
  {
   "cell_type": "code",
   "execution_count": 203,
   "metadata": {
    "scrolled": false
   },
   "outputs": [
    {
     "data": {
      "text/html": [
       "<div>\n",
       "<style scoped>\n",
       "    .dataframe tbody tr th:only-of-type {\n",
       "        vertical-align: middle;\n",
       "    }\n",
       "\n",
       "    .dataframe tbody tr th {\n",
       "        vertical-align: top;\n",
       "    }\n",
       "\n",
       "    .dataframe thead th {\n",
       "        text-align: right;\n",
       "    }\n",
       "</style>\n",
       "<table border=\"1\" class=\"dataframe\">\n",
       "  <thead>\n",
       "    <tr style=\"text-align: right;\">\n",
       "      <th></th>\n",
       "      <th>temp</th>\n",
       "      <th>rain_1h</th>\n",
       "      <th>snow_1h</th>\n",
       "      <th>clouds_all</th>\n",
       "      <th>traffic_volume</th>\n",
       "    </tr>\n",
       "  </thead>\n",
       "  <tbody>\n",
       "    <tr>\n",
       "      <th>count</th>\n",
       "      <td>48204.000000</td>\n",
       "      <td>48204.000000</td>\n",
       "      <td>48204.000000</td>\n",
       "      <td>48204.000000</td>\n",
       "      <td>48204.000000</td>\n",
       "    </tr>\n",
       "    <tr>\n",
       "      <th>mean</th>\n",
       "      <td>281.205870</td>\n",
       "      <td>0.334264</td>\n",
       "      <td>0.000222</td>\n",
       "      <td>49.362231</td>\n",
       "      <td>3259.818355</td>\n",
       "    </tr>\n",
       "    <tr>\n",
       "      <th>std</th>\n",
       "      <td>13.338232</td>\n",
       "      <td>44.789133</td>\n",
       "      <td>0.008168</td>\n",
       "      <td>39.015750</td>\n",
       "      <td>1986.860670</td>\n",
       "    </tr>\n",
       "    <tr>\n",
       "      <th>min</th>\n",
       "      <td>0.000000</td>\n",
       "      <td>0.000000</td>\n",
       "      <td>0.000000</td>\n",
       "      <td>0.000000</td>\n",
       "      <td>0.000000</td>\n",
       "    </tr>\n",
       "    <tr>\n",
       "      <th>25%</th>\n",
       "      <td>272.160000</td>\n",
       "      <td>0.000000</td>\n",
       "      <td>0.000000</td>\n",
       "      <td>1.000000</td>\n",
       "      <td>1193.000000</td>\n",
       "    </tr>\n",
       "    <tr>\n",
       "      <th>50%</th>\n",
       "      <td>282.450000</td>\n",
       "      <td>0.000000</td>\n",
       "      <td>0.000000</td>\n",
       "      <td>64.000000</td>\n",
       "      <td>3380.000000</td>\n",
       "    </tr>\n",
       "    <tr>\n",
       "      <th>75%</th>\n",
       "      <td>291.806000</td>\n",
       "      <td>0.000000</td>\n",
       "      <td>0.000000</td>\n",
       "      <td>90.000000</td>\n",
       "      <td>4933.000000</td>\n",
       "    </tr>\n",
       "    <tr>\n",
       "      <th>max</th>\n",
       "      <td>310.070000</td>\n",
       "      <td>9831.300000</td>\n",
       "      <td>0.510000</td>\n",
       "      <td>100.000000</td>\n",
       "      <td>7280.000000</td>\n",
       "    </tr>\n",
       "  </tbody>\n",
       "</table>\n",
       "</div>"
      ],
      "text/plain": [
       "               temp       rain_1h       snow_1h    clouds_all  traffic_volume\n",
       "count  48204.000000  48204.000000  48204.000000  48204.000000    48204.000000\n",
       "mean     281.205870      0.334264      0.000222     49.362231     3259.818355\n",
       "std       13.338232     44.789133      0.008168     39.015750     1986.860670\n",
       "min        0.000000      0.000000      0.000000      0.000000        0.000000\n",
       "25%      272.160000      0.000000      0.000000      1.000000     1193.000000\n",
       "50%      282.450000      0.000000      0.000000     64.000000     3380.000000\n",
       "75%      291.806000      0.000000      0.000000     90.000000     4933.000000\n",
       "max      310.070000   9831.300000      0.510000    100.000000     7280.000000"
      ]
     },
     "execution_count": 203,
     "metadata": {},
     "output_type": "execute_result"
    }
   ],
   "source": [
    "data.describe()"
   ]
  },
  {
   "cell_type": "markdown",
   "metadata": {},
   "source": [
    "#### Checagem de valores nulos ou duplicados"
   ]
  },
  {
   "cell_type": "code",
   "execution_count": 204,
   "metadata": {},
   "outputs": [
    {
     "name": "stdout",
     "output_type": "stream",
     "text": [
      "Valores faltando:  <bound method DataFrame.sum of        holiday   temp  rain_1h  snow_1h  clouds_all  weather_main  \\\n",
      "0        False  False    False    False       False         False   \n",
      "1        False  False    False    False       False         False   \n",
      "2        False  False    False    False       False         False   \n",
      "3        False  False    False    False       False         False   \n",
      "4        False  False    False    False       False         False   \n",
      "...        ...    ...      ...      ...         ...           ...   \n",
      "48199    False  False    False    False       False         False   \n",
      "48200    False  False    False    False       False         False   \n",
      "48201    False  False    False    False       False         False   \n",
      "48202    False  False    False    False       False         False   \n",
      "48203    False  False    False    False       False         False   \n",
      "\n",
      "       weather_description  date_time  traffic_volume  \n",
      "0                    False      False           False  \n",
      "1                    False      False           False  \n",
      "2                    False      False           False  \n",
      "3                    False      False           False  \n",
      "4                    False      False           False  \n",
      "...                    ...        ...             ...  \n",
      "48199                False      False           False  \n",
      "48200                False      False           False  \n",
      "48201                False      False           False  \n",
      "48202                False      False           False  \n",
      "48203                False      False           False  \n",
      "\n",
      "[48204 rows x 9 columns]>\n",
      "Valores duplicados:  0        False\n",
      "1        False\n",
      "2        False\n",
      "3        False\n",
      "4        False\n",
      "         ...  \n",
      "48199    False\n",
      "48200    False\n",
      "48201    False\n",
      "48202    False\n",
      "48203    False\n",
      "Length: 48204, dtype: bool\n"
     ]
    }
   ],
   "source": [
    "print('Valores faltando: ', data.isnull().sum)\n",
    "print('Valores duplicados: ',data.duplicated())"
   ]
  },
  {
   "cell_type": "markdown",
   "metadata": {},
   "source": [
    "#### Transformando os valores de holiday, date_time,weather_description,weather_main de string para valores quantitativos"
   ]
  },
  {
   "cell_type": "code",
   "execution_count": 205,
   "metadata": {},
   "outputs": [],
   "source": [
    "from sklearn import cluster, neighbors, svm, metrics, preprocessing \n",
    "le = preprocessing.LabelEncoder()\n",
    "for columns in data.columns:\n",
    "     if data[columns].dtypes == 'object':\n",
    "        data[columns] = le.fit_transform(data[columns])\n",
    "\n",
    "\n",
    "\n"
   ]
  },
  {
   "cell_type": "markdown",
   "metadata": {},
   "source": [
    "#### Removendo snow_1h e date_time"
   ]
  },
  {
   "cell_type": "code",
   "execution_count": 206,
   "metadata": {},
   "outputs": [],
   "source": [
    "data = data.drop(['snow_1h','date_time'],axis=1)\n"
   ]
  },
  {
   "cell_type": "markdown",
   "metadata": {},
   "source": [
    "#### Definindo o modelo de regressão linear para o ser o primeiro algoritimo nesse com setenta por cento da base para treino e os trinta por cento restante para validação"
   ]
  },
  {
   "cell_type": "code",
   "execution_count": 207,
   "metadata": {},
   "outputs": [],
   "source": [
    "from sklearn import linear_model,model_selection\n",
    "from sklearn import preprocessing \n",
    "reg = linear_model.LinearRegression()\n",
    "X = data.iloc[:,0:6]\n",
    "y = data.iloc[:,6]\n",
    "X_train, X_test, y_train, y_test = model_selection.train_test_split(X, y, test_size=0.3, random_state=101)\n",
    "reg.fit(X_train,y_train)\n",
    "y_pred = reg.predict(X_test)\n"
   ]
  },
  {
   "cell_type": "code",
   "execution_count": 208,
   "metadata": {},
   "outputs": [
    {
     "name": "stdout",
     "output_type": "stream",
     "text": [
      "MAE: 1694.2601378071356\n",
      "MSE: 3796433.1599442554\n",
      "RMSE: 1948.4437790052489\n"
     ]
    },
    {
     "data": {
      "text/plain": [
       "<matplotlib.collections.PathCollection at 0x7f118fb052d0>"
      ]
     },
     "execution_count": 208,
     "metadata": {},
     "output_type": "execute_result"
    },
    {
     "data": {
      "image/png": "[encoded data removed]",
      "text/plain": [
       "<Figure size 432x288 with 1 Axes>"
      ]
     },
     "metadata": {
      "needs_background": "light"
     },
     "output_type": "display_data"
    }
   ],
   "source": [
    "from sklearn import metrics\n",
    "import seaborn as sns\n",
    "print('MAE:', metrics.mean_absolute_error(y_test,y_pred))\n",
    "print('MSE:', metrics.mean_squared_error(y_test,y_pred))\n",
    "print('RMSE:', np.sqrt(metrics.mean_squared_error(y_test,y_pred)))\n",
    "plt.scatter(y_test,y_pred)\n"
   ]
  },
  {
   "cell_type": "markdown",
   "metadata": {},
   "source": [
    "#### Os valores encontrados representam o erro absoluto médio,o erro medio quadratico ou seja isso significa que na média a regressão linear está errando a previsão do trafego em 1600 o que mostra que talvez esse problema seja complexo demais paro o uso de uma regressão linear que como o prorpio nome já diz consiste em tentar traçar uma reta que consiga predizer o comportamento do alvo a ser previsto.\n",
    "#### Olhando agora para o grafico pode-se ter a certeza que esse algorfitimo é demasiadamente simples para esse tipo de problema uma vez que no grafico de disperção quanto mais proximo de uma reta melhor e o gráfico em questão se diferencia de modo bastante notavel de uma reta"
   ]
  },
  {
   "cell_type": "markdown",
   "metadata": {},
   "source": [
    "#### O codigo abaixo se trata de uma regressão gaussiana para ser o segundo algoritimo a ser implementado , sua implementação se deu pelo motivo de sua previsão não ser uma reta portanto esperando melhores resultados e pelo fato dela ser uma teb=ntativa mais probabilistica (busca mais um itervalo de confiança empirico)."
   ]
  },
  {
   "cell_type": "code",
   "execution_count": 209,
   "metadata": {},
   "outputs": [
    {
     "name": "stdout",
     "output_type": "stream",
     "text": [
      "MAE: 2250.3811367722305\n",
      "MSE: 7629543.490803485\n",
      "RMSE: 2762.1628284377957\n"
     ]
    }
   ],
   "source": [
    "from sklearn.naive_bayes import GaussianNB\n",
    "gnb = GaussianNB()\n",
    "y_predg = gnb.fit(X_train, y_train).predict(X_test)\n",
    "print('MAE:', metrics.mean_absolute_error(y_test,y_predg))\n",
    "print('MSE:', metrics.mean_squared_error(y_test,y_predg))\n",
    "print('RMSE:', np.sqrt(metrics.mean_squared_error(y_test,y_predg)))\n"
   ]
  },
  {
   "cell_type": "markdown",
   "metadata": {},
   "source": []
  },
  {
   "cell_type": "code",
   "execution_count": null,
   "metadata": {},
   "outputs": [],
   "source": []
  },
  {
   "cell_type": "markdown",
   "metadata": {},
   "source": [
    "#### Como observado pelos resultados acima a regressão gaussiana está distante de um resultado ideal para o problema proposto, após analise dos valores fica inegavel que a regressão gaussiana também é não é uma boa solução para o problema"
   ]
  },
  {
   "cell_type": "markdown",
   "metadata": {},
   "source": [
    "#### Agora o teste é feito com a validação cruzada para avaliar se há alguma melhora em ambos algoritimos"
   ]
  },
  {
   "cell_type": "code",
   "execution_count": 212,
   "metadata": {},
   "outputs": [
    {
     "name": "stdout",
     "output_type": "stream",
     "text": [
      "MAE: 1693.2446465765204\n",
      "Number of mislabeled points out of a total 4821 points : 4821\n",
      "MAE: 1692.341169861775\n",
      "Number of mislabeled points out of a total 4821 points : 4821\n",
      "MAE: 1830.205881785033\n",
      "Number of mislabeled points out of a total 4821 points : 4821\n",
      "MAE: 1716.8629711894337\n",
      "Number of mislabeled points out of a total 4821 points : 4821\n",
      "MAE: 1710.965195584913\n",
      "Number of mislabeled points out of a total 4820 points : 4820\n",
      "MAE: 1698.4212289423187\n",
      "Number of mislabeled points out of a total 4820 points : 4820\n",
      "MAE: 1708.9582400068832\n",
      "Number of mislabeled points out of a total 4820 points : 4820\n",
      "MAE: 1699.3571267715733\n",
      "Number of mislabeled points out of a total 4820 points : 4820\n",
      "MAE: 1709.764954319407\n",
      "Number of mislabeled points out of a total 4820 points : 4820\n",
      "MAE: 1681.6443677998038\n",
      "Number of mislabeled points out of a total 4820 points : 4820\n"
     ]
    }
   ],
   "source": [
    "from sklearn.model_selection import KFold\n",
    "kf = KFold(n_splits=10, random_state=0, shuffle=True)\n",
    "\n",
    "for train_index, test_index in kf.split(X):\n",
    "\n",
    "    X_train = X.iloc[train_index]\n",
    "    X_test =  X.iloc[test_index]\n",
    "    y_train = y.iloc[train_index]\n",
    "    y_test =  y.iloc[test_index]\n",
    "    y_predy = reg.fit(X_train, y_train).predict(X_test)\n",
    "    print('MAE:', metrics.mean_absolute_error(y_test,y_predy))\n",
    "    print(\"Number of mislabeled points out of a total %d points : %d\" % (X_test.shape[0], (y_test != y_predy).sum()))\n"
   ]
  },
  {
   "cell_type": "code",
   "execution_count": 216,
   "metadata": {},
   "outputs": [
    {
     "name": "stdout",
     "output_type": "stream",
     "text": [
      "MAE: 2329.0773698402822\n",
      "Number of mislabeled points out of a total 4821 points : 4814\n",
      "MAE: 2371.1213441194773\n",
      "Number of mislabeled points out of a total 4821 points : 4817\n",
      "MAE: 2406.3874714789463\n",
      "Number of mislabeled points out of a total 4821 points : 4817\n",
      "MAE: 2320.549263638249\n",
      "Number of mislabeled points out of a total 4821 points : 4816\n",
      "MAE: 2313.793153526971\n",
      "Number of mislabeled points out of a total 4820 points : 4813\n",
      "MAE: 2349.8026970954356\n",
      "Number of mislabeled points out of a total 4820 points : 4814\n",
      "MAE: 2336.731742738589\n",
      "Number of mislabeled points out of a total 4820 points : 4816\n",
      "MAE: 2308.8147302904563\n",
      "Number of mislabeled points out of a total 4820 points : 4811\n",
      "MAE: 2395.4265560165977\n",
      "Number of mislabeled points out of a total 4820 points : 4817\n",
      "MAE: 2245.540041493776\n",
      "Number of mislabeled points out of a total 4820 points : 4808\n"
     ]
    }
   ],
   "source": [
    "for train_index, test_index in kf.split(X):\n",
    "\n",
    "    X_train = X.iloc[train_index]\n",
    "    X_test =  X.iloc[test_index]\n",
    "    y_train = y.iloc[train_index]\n",
    "    y_test =  y.iloc[test_index]\n",
    "    y_predy = gnb.fit(X_train, y_train).predict(X_test)\n",
    "    print('MAE:', metrics.mean_absolute_error(y_test,y_predy))\n",
    "    print(\"Number of mislabeled points out of a total %d points : %d\" % (X_test.shape[0], (y_test != y_predy).sum()))"
   ]
  },
  {
   "cell_type": "markdown",
   "metadata": {},
   "source": [
    "#### Vistos os resultados a regressão gaussiana apresenta um resultado melhor que a regressão linear o que não é surpreendente\n",
    "#### Uma vez que por não ser uma reta ela tende a assumir uma gama de valores maior mas ainda sim o desempenho de ambos os algoritimos foi extremamente decepcionante com a validação cruzada. Importante ressaltar também que o erro médio de cada split de treinamento tende a ser proximo ao do treinamento com a divisão da base o que mostra que essa é verdadeiramente a tendencia de errro desses algoritimos não importando a divisão de treinamento escolhida"
   ]
  },
  {
   "cell_type": "markdown",
   "metadata": {},
   "source": [
    "# Conclusão\n",
    "#### Por fim pode-se concluir que a  regressão linear é melhor que a regressão gaussiana no treino em split mas se torna pior no quesito de acerto de pontos na validação cruzada\n",
    "  "
   ]
  },
  {
   "cell_type": "code",
   "execution_count": null,
   "metadata": {},
   "outputs": [],
   "source": [
    "\n"
   ]
  },
  {
   "cell_type": "code",
   "execution_count": null,
   "metadata": {},
   "outputs": [],
   "source": []
  }
 ],
 "metadata": {
  "kernelspec": {
   "display_name": "Python 3",
   "language": "python",
   "name": "python3"
  },
  "language_info": {
   "codemirror_mode": {
    "name": "ipython",
    "version": 3
   },
   "file_extension": ".py",
   "mimetype": "text/x-python",
   "name": "python",
   "nbconvert_exporter": "python",
   "pygments_lexer": "ipython3",
   "version": "3.7.4"
  }
 },
 "nbformat": 4,
 "nbformat_minor": 4
}
